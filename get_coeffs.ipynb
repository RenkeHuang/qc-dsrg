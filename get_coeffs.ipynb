{
 "cells": [
  {
   "cell_type": "code",
   "execution_count": 2,
   "metadata": {},
   "outputs": [],
   "source": [
    "import os\n",
    "import numpy as np\n",
    "import subprocess\n",
    "\n",
    "import matplotlib.pyplot as plt\n",
    "import matplotlib as mpl\n",
    "\n",
    "rgb_colors = {'db': (  0, 78,139), # Dark blue\n",
    "              'b':  (  0,130,183), # Blue\n",
    "              'lb': ( 97,202,228), # Light blue\n",
    "              'yellow': (255,205, 65), # Dark yellow\n",
    "              'red': (225, 27, 46),    # Reddish\n",
    "              'black': (  0,  0,  0), # Black\n",
    "             }\n",
    "\n",
    "colors = {}\n",
    "for key in rgb_colors:\n",
    "    colors[key] = tuple([float(p) / 255.0 for p in rgb_colors[key]])\n",
    "\n",
    "for c in ['b', 'g', 'c', 'y', 'k', 'w', 'r', 'm']:\n",
    "    colors[c] = c\n",
    "    \n",
    "fontsize = 12"
   ]
  },
  {
   "cell_type": "code",
   "execution_count": 3,
   "metadata": {},
   "outputs": [
    {
     "name": "stdout",
     "output_type": "stream",
     "text": [
      "/home/renke/computations/qc-dsrg\n",
      "coeffs\t     drints_armonk_0\t     get_coeffs.ipynb  README.md\n",
      "coeffs-full  drints_perth_0_3pt      logs\n",
      "cz_cx_c0     forte_get_1q_coeffs.py  qc_ci_solver.py\n"
     ]
    }
   ],
   "source": [
    "!pwd\n",
    "!ls"
   ]
  },
  {
   "cell_type": "code",
   "execution_count": 4,
   "metadata": {},
   "outputs": [],
   "source": [
    "with open(f'cz_cx_c0', 'r') as file:\n",
    "    data = file.readlines()"
   ]
  },
  {
   "cell_type": "code",
   "execution_count": 5,
   "metadata": {},
   "outputs": [],
   "source": [
    "idx_z = [5*k+1 for k in range(19)]\n",
    "idx_x = [5*k+2 for k in range(19)]\n",
    "idx_c0 = [5*k+3 for k in range(19)]"
   ]
  },
  {
   "cell_type": "code",
   "execution_count": 6,
   "metadata": {},
   "outputs": [],
   "source": [
    "# for i in idx_c0:\n",
    "#     print(float(str(data[i])[-13:-1]))\n",
    "rvals = [0.6 , 0.65, 0.7 , 0.75, 0.8 , 0.85, 1.15, 1.2 , \\\n",
    "         1.205, 1.21, 1.215, 1.22,\n",
    "         1.3 , 1.45, 1.6 , 1.9 , 2.5 , 2.95, 6.  ]  \n",
    "\n",
    "cz_list = [float(str(data[i])[-13:-1]) for i in idx_z]\n",
    "cx_list = [float(str(data[i])[-12:-1]) for i in idx_x]\n",
    "c0_list = [float(str(data[i])[-13:-1]) for i in idx_c0]"
   ]
  },
  {
   "cell_type": "code",
   "execution_count": 10,
   "metadata": {},
   "outputs": [],
   "source": [
    "fname = 'coeffs-full'\n",
    "with open(fname, 'w') as f:\n",
    "    f.write(f'# H2, cc-pV5Z\\n')\n",
    "    f.write(f'# r        c_z          c_x      arctan(c_x/c_z)    c_0\\n')\n",
    "for r, cz, cx, c0 in zip(rvals, cz_list, cx_list, c0_list):\n",
    "    with open(fname, 'a') as f:\n",
    "        f.write(f'{r:.3f}  {cz:.9f}  {cx:.9f}  {np.arctan(cx/cz):.9f}  {c0:.9f}\\n')\n",
    "        "
   ]
  },
  {
   "cell_type": "code",
   "execution_count": null,
   "metadata": {},
   "outputs": [],
   "source": []
  }
 ],
 "metadata": {
  "kernelspec": {
   "display_name": "Python 3",
   "language": "python",
   "name": "python3"
  },
  "language_info": {
   "codemirror_mode": {
    "name": "ipython",
    "version": 3
   },
   "file_extension": ".py",
   "mimetype": "text/x-python",
   "name": "python",
   "nbconvert_exporter": "python",
   "pygments_lexer": "ipython3",
   "version": "3.7.7"
  }
 },
 "nbformat": 4,
 "nbformat_minor": 4
}
